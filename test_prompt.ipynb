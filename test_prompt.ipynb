{
 "cells": [
  {
   "cell_type": "code",
   "execution_count": null,
   "metadata": {},
   "outputs": [],
   "source": [
    "from prompt import LLM_QUERY_PROMPT\n",
    "from langchain.prompts import ChatPromptTemplate\n",
    "from langchain.schema.output_parser import StrOutputParser\n",
    "from langchain.memory import ConversationBufferMemory\n",
    "from langchain_groq import ChatGroq\n",
    "from config import load_config\n",
    "from hybrid_search import HybridSearch\n",
    "\n",
    "CONFIG = load_config()\n",
    "query  = 'Hãy cho tôi biết thông tin về bệnh Rối loạn phát triển trí tuệ?'\n",
    "search = HybridSearch()\n",
    "docs = search.query_docs(query)\n",
    "llm  = ChatGroq(\n",
    "    model = CONFIG['llm_groq']['model'],\n",
    "    api_key=  CONFIG['llm_groq']['api_key']\n",
    ")\n",
    "\n",
    "prompt = ChatPromptTemplate.from_messages(\n",
    "    LLM_QUERY_PROMPT\n",
    ")\n",
    "\n",
    "memory = ConversationBufferMemory(memory_key=\"chat_history\", return_messages=True)\n",
    "\n",
    "prompt[0].content = prompt[0].content.format(context = docs)\n",
    "\n",
    "chain = (\n",
    "    prompt\n",
    "    | llm\n",
    "    | StrOutputParser()\n",
    ")\n",
    "\n",
    "\n",
    "response = chain.invoke({'humman_input' : query, 'chat_history': memory.load_memory_variables({})[\"chat_history\"]})\n",
    "print(response)\n",
    "\n"
   ]
  },
  {
   "cell_type": "code",
   "execution_count": null,
   "metadata": {},
   "outputs": [],
   "source": [
    "query = 'Bệnh này có nghiêm trọng hay không?'\n",
    "response = chain.invoke({'humman_input' : query, 'chat_history': memory.load_memory_variables({})[\"chat_history\"]})\n",
    "print(response)"
   ]
  },
  {
   "cell_type": "code",
   "execution_count": 1,
   "metadata": {},
   "outputs": [
    {
     "name": "stderr",
     "output_type": "stream",
     "text": [
      "c:\\Users\\Admin\\anaconda3\\envs\\RAG_Chatbot_3.12\\Lib\\site-packages\\tqdm\\auto.py:21: TqdmWarning: IProgress not found. Please update jupyter and ipywidgets. See https://ipywidgets.readthedocs.io/en/stable/user_install.html\n",
      "  from .autonotebook import tqdm as notebook_tqdm\n",
      "\u001b[32m2024-11-07 08:56:57.354\u001b[0m | \u001b[33m\u001b[1mWARNING \u001b[0m | \u001b[36mfastembed.embedding\u001b[0m:\u001b[36m<module>\u001b[0m:\u001b[36m7\u001b[0m - \u001b[33m\u001b[1mDefaultEmbedding, FlagEmbedding, JinaEmbedding are deprecated.Use from fastembed import TextEmbedding instead.\u001b[0m\n",
      "Fetching 5 files: 100%|██████████| 5/5 [00:00<?, ?it/s]\n",
      "Fetching 29 files: 100%|██████████| 29/29 [00:00<?, ?it/s]\n",
      "Fetching 5 files: 100%|██████████| 5/5 [00:00<?, ?it/s]\n",
      "c:\\Users\\Admin\\Desktop\\HealthCare_RAG\\HealthCare_Retrieval_Augmented_Generation\\chatbot.py:20: LangChainDeprecationWarning: Please see the migration guide at: https://python.langchain.com/docs/versions/migrating_memory/\n",
      "  self.memory = ConversationBufferMemory(memory_key=\"chat_history\", return_messages=True)\n"
     ]
    }
   ],
   "source": [
    "from chatbot import ChatbotAssistant\n",
    "\n",
    "\n",
    "chatbot = ChatbotAssistant()"
   ]
  },
  {
   "cell_type": "code",
   "execution_count": 2,
   "metadata": {},
   "outputs": [
    {
     "name": "stdout",
     "output_type": "stream",
     "text": [
      "Rối loạn nhân cách là một dạng rối loạn tâm lý, trong đó người bệnh có cách nghĩ, cảm xúc và hành vi khác biệt so với chuẩn mực xã hội. Người bị rối loạn nhân cách có thể có khó khăn trong việc điều chỉnh cảm xúc, kiểm soát hành vi, và duy trì các mối quan hệ với người khác.\n",
      "\n",
      "Có nhiều loại rối loạn nhân cách, bao gồm:\n",
      "\n",
      "* Rối loạn nhân cách phân liệt (Borderline Personality Disorder): người bệnh có xu hướng thay đổi cảm xúc nhanh chóng, có hành vi tự hủy diệt, và có khó khăn trong việc duy trì các mối quan hệ.\n",
      "* Rối loạn nhân cách chống đối xã hội (Antisocial Personality Disorder): người bệnh có xu hướng không quan tâm đến cảm xúc và quyền lợi của người khác, và có thể có hành vi phạm pháp.\n",
      "* Rối loạn nhân cách ái kỷ (Narcissistic Personality Disorder): người bệnh có xu hướng tự cao, tự phụ, và có khó khăn trong việc thừa nhận sai lầm.\n",
      "\n",
      "Rối loạn nhân cách có thể được điều trị bằng liệu pháp tâm lý, chẳng hạn như liệu pháp hành vi nhận thức (Cognitive Behavioral Therapy) và liệu pháp gia đình (Family Therapy).\n"
     ]
    }
   ],
   "source": [
    "print(chatbot.invoke('Hãy cho tôi biết về bệnh rối loạn nhân cách?'))"
   ]
  },
  {
   "cell_type": "code",
   "execution_count": 3,
   "metadata": {},
   "outputs": [
    {
     "name": "stdout",
     "output_type": "stream",
     "text": [
      "Tôi không biết.\n"
     ]
    }
   ],
   "source": [
    "print(chatbot.invoke('Bệnh rối loạn nhân cách này có những biểu hiện gì?'))"
   ]
  },
  {
   "cell_type": "code",
   "execution_count": 4,
   "metadata": {},
   "outputs": [
    {
     "name": "stdout",
     "output_type": "stream",
     "text": [
      "Theo các tài liệu đã được cung cấp, bệnh tự kỷ (Autism Spectrum Disorder - ASD) là một rối loạn phát triển thần kinh, ảnh hưởng đến khả năng giao tiếp, tương tác và hành vi của một người. Một số biểu hiện của bệnh tự kỷ bao gồm:\n",
      "\n",
      "* Khó khăn trong giao tiếp: người tự kỷ có thể gặp khó khăn trong việc bắt đầu hoặc duy trì cuộc trò chuyện, hiểu ý nghĩa của ngôn ngữ, hoặc sử dụng ngôn ngữ không phù hợp với ngữ cảnh.\n",
      "* Khó khăn trong tương tác xã hội: người tự kỷ có thể gặp khó khăn trong việc hiểu và đáp ứng với các tín hiệu xã hội, như mắt nhìn, nét mặt, hoặc ngôn ngữ cơ thể.\n",
      "* Hành vi lặp lại: người tự kỷ có thể có các hành vi lặp lại, như lặp lại các động tác, hoặc có các thói quen đặc biệt.\n",
      "* Khó khăn trong thay đổi: người tự kỷ có thể gặp khó khăn trong việc thay đổi các thói quen hoặc các hoạt động hàng ngày.\n",
      "* Khó khăn trong cảm xúc: người tự kỷ có thể gặp khó khăn trong việc hiểu và quản lý các cảm xúc của mình.\n",
      "\n",
      "Đây là một số biểu hiện của bệnh tự kỷ, tuy nhiên, mỗi người tự kỷ là duy nhất và có thể có các biểu hiện khác nhau.\n"
     ]
    }
   ],
   "source": [
    "print(chatbot.invoke('Những biểu hiện của bệnh tự kỉ'))"
   ]
  },
  {
   "cell_type": "code",
   "execution_count": null,
   "metadata": {},
   "outputs": [],
   "source": []
  }
 ],
 "metadata": {
  "kernelspec": {
   "display_name": "RAG_Chatbot_3.12",
   "language": "python",
   "name": "python3"
  },
  "language_info": {
   "codemirror_mode": {
    "name": "ipython",
    "version": 3
   },
   "file_extension": ".py",
   "mimetype": "text/x-python",
   "name": "python",
   "nbconvert_exporter": "python",
   "pygments_lexer": "ipython3",
   "version": "3.12.7"
  }
 },
 "nbformat": 4,
 "nbformat_minor": 2
}
